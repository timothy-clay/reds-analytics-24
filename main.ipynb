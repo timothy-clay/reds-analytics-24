{
 "cells": [
  {
   "cell_type": "code",
   "execution_count": 1,
   "id": "initial_id",
   "metadata": {
    "collapsed": true,
    "ExecuteTime": {
     "end_time": "2023-10-23T21:11:46.745983Z",
     "start_time": "2023-10-23T21:11:45.650464Z"
    }
   },
   "outputs": [],
   "source": [
    "import pandas as pd\n",
    "import numpy as np\n",
    "import matplotlib.pyplot as plt\n",
    "from sklearn.pipeline import Pipeline\n",
    "from sklearn.preprocessing import StandardScaler\n",
    "from sklearn.model_selection import train_test_split\n",
    "from sklearn.model_selection import GridSearchCV\n",
    "from xgboost import XGBClassifier\n",
    "from collections import defaultdict \n",
    "from scipy.stats import zscore\n"
   ]
  },
  {
   "cell_type": "code",
   "execution_count": 2,
   "outputs": [],
   "source": [
    "# removes warnings for readability\n",
    "import warnings\n",
    "warnings.simplefilter(action='ignore')\n"
   ],
   "metadata": {
    "collapsed": false,
    "ExecuteTime": {
     "end_time": "2023-10-23T21:11:46.749008Z",
     "start_time": "2023-10-23T21:11:46.746650Z"
    }
   },
   "id": "b9a61c0e31549af3"
  },
  {
   "cell_type": "markdown",
   "source": [
    "## Data Processing"
   ],
   "metadata": {
    "collapsed": false
   },
   "id": "4ee14a219c4bce28"
  },
  {
   "cell_type": "code",
   "execution_count": 3,
   "outputs": [],
   "source": [
    "df = pd.read_csv('~/Downloads/data-2.csv')"
   ],
   "metadata": {
    "collapsed": false,
    "ExecuteTime": {
     "end_time": "2023-10-23T21:11:46.822993Z",
     "start_time": "2023-10-23T21:11:46.748865Z"
    }
   },
   "id": "622b9c54d48091a4"
  },
  {
   "cell_type": "code",
   "execution_count": 4,
   "outputs": [],
   "source": [
    "# computes z-score for spin rate and movement for each pitch, grouped by the pitcher-pitch type combinations\n",
    "df['SPIN_RATE_ABSOLUTE_Z'] = df.groupby(['PITCHER_KEY', 'PITCH_TYPE_TRACKED_KEY']).SPIN_RATE_ABSOLUTE.transform(lambda x : zscore(x,ddof=1))\n",
    "df['INDUCED_VERTICAL_BREAK_Z'] = df.groupby(['PITCHER_KEY', 'PITCH_TYPE_TRACKED_KEY']).INDUCED_VERTICAL_BREAK.transform(lambda x : zscore(x,ddof=1))\n",
    "df['HORIZONTAL_BREAK_Z'] = df.groupby(['PITCHER_KEY', 'PITCH_TYPE_TRACKED_KEY']).HORIZONTAL_BREAK.transform(lambda x : zscore(x,ddof=1))\n",
    "\n",
    "# functionally remove low outliers (we're only interested in the lowest numbers, so setting them to something high like 10 functionally disqualifies them from consideration)\n",
    "df['SPIN_RATE_ABSOLUTE_Z'] = np.where(df['SPIN_RATE_ABSOLUTE_Z'] < -3, -3, df['SPIN_RATE_ABSOLUTE_Z'])\n",
    "df['INDUCED_VERTICAL_BREAK_Z'] = np.where(df['INDUCED_VERTICAL_BREAK_Z'] < -3, -3, df['INDUCED_VERTICAL_BREAK_Z'])\n",
    "df['HORIZONTAL_BREAK_Z'] = np.where(df['HORIZONTAL_BREAK_Z'] < -3, -3, df['HORIZONTAL_BREAK_Z'])"
   ],
   "metadata": {
    "collapsed": false,
    "ExecuteTime": {
     "end_time": "2023-10-23T21:11:46.938793Z",
     "start_time": "2023-10-23T21:11:46.825385Z"
    }
   },
   "id": "4c616e5472318c69"
  },
  {
   "cell_type": "code",
   "execution_count": 5,
   "outputs": [],
   "source": [
    "# combines the three z-scores into one weighted sum\n",
    "df['AVG_Z'] = 0.33 * df['SPIN_RATE_ABSOLUTE_Z'] + 0.33 * df['INDUCED_VERTICAL_BREAK_Z'] + 0.33 * df['HORIZONTAL_BREAK_Z']"
   ],
   "metadata": {
    "collapsed": false,
    "ExecuteTime": {
     "end_time": "2023-10-23T21:11:46.942292Z",
     "start_time": "2023-10-23T21:11:46.940109Z"
    }
   },
   "id": "277a0d0f3072edcd"
  },
  {
   "cell_type": "code",
   "execution_count": 6,
   "outputs": [],
   "source": [
    "# considers the lowest 25% of pitches by weighted sum to be \"high humidity\"\n",
    "df['IS_HIGH_HUMIDITY'] = np.where(df['AVG_Z'] < df['AVG_Z'].quantile(0.25), 1, 0)"
   ],
   "metadata": {
    "collapsed": false,
    "ExecuteTime": {
     "end_time": "2023-10-23T21:11:46.945566Z",
     "start_time": "2023-10-23T21:11:46.942924Z"
    }
   },
   "id": "68b3e8674b56ad03"
  },
  {
   "cell_type": "markdown",
   "source": [
    "## Machine Learning"
   ],
   "metadata": {
    "collapsed": false
   },
   "id": "d22ceda266491d9e"
  },
  {
   "cell_type": "code",
   "execution_count": 7,
   "outputs": [],
   "source": [
    "# creates a classifier model and parameters to test the model with\n",
    "\n",
    "pipeline_clf = Pipeline([\n",
    "    ('scaling', StandardScaler()),\n",
    "    ('model', XGBClassifier())\n",
    "])\n",
    "\n",
    "param_grid = {\n",
    "    'model__n_estimators': [100, 150, 200],\n",
    "    'model__learning_rate': [0.1, 0.01],\n",
    "    'model__max_depth': [2, 4, 6, 8]\n",
    "}\n",
    "\n",
    "grid_search_clf = GridSearchCV(\n",
    "    estimator=pipeline_clf,\n",
    "    param_grid=param_grid,\n",
    "    cv=5,\n",
    "    scoring='f1'\n",
    ")"
   ],
   "metadata": {
    "collapsed": false,
    "ExecuteTime": {
     "end_time": "2023-10-23T21:11:46.948432Z",
     "start_time": "2023-10-23T21:11:46.946543Z"
    }
   },
   "id": "aea1829e90846b9b"
  },
  {
   "cell_type": "code",
   "execution_count": 8,
   "outputs": [],
   "source": [
    "models = defaultdict()\n",
    "\n",
    "# trains a new model specific to each pitcher\n",
    "for pitcher in df['PITCHER_KEY'].unique():\n",
    "    X = df.loc[df['PITCHER_KEY']==pitcher, ['SPIN_RATE_ABSOLUTE', 'INDUCED_VERTICAL_BREAK', 'HORIZONTAL_BREAK']]\n",
    "    y = df.loc[df['PITCHER_KEY']==pitcher, 'IS_HIGH_HUMIDITY']\n",
    "    X_train, X_test, y_train, y_test = train_test_split(X, y, test_size=0.25)\n",
    "    \n",
    "    grid_search_clf.fit(X_train, y_train)\n",
    "    clf = grid_search_clf.best_estimator_\n",
    "    \n",
    "    # saves the best performing model under that pitcher's key\n",
    "    models[pitcher] = clf"
   ],
   "metadata": {
    "collapsed": false,
    "ExecuteTime": {
     "end_time": "2023-10-23T21:14:08.166919Z",
     "start_time": "2023-10-23T21:11:46.949560Z"
    }
   },
   "id": "f711056cde51700b"
  },
  {
   "cell_type": "code",
   "execution_count": 9,
   "outputs": [],
   "source": [
    "# creates the submission table (probability for each pitch)\n",
    "probs = {'PID':[], 'DEWPOINT_AFFECTED':[]}\n",
    "\n",
    "# for each pitch, uses the corresponding model to predict the probability that that pitch was affected by high humidity\n",
    "# appends this information to the probs dict\n",
    "for index, row in df.iterrows():\n",
    "    probs['PID'].append(row['PID'])\n",
    "    probs['DEWPOINT_AFFECTED'].append(float(models[row['PITCHER_KEY']].predict_proba([[row['SPIN_RATE_ABSOLUTE'], row['INDUCED_VERTICAL_BREAK'], row['HORIZONTAL_BREAK']]])[:, 1]))\n",
    "    \n",
    "probs_df = pd.DataFrame.from_dict(data=probs)"
   ],
   "metadata": {
    "collapsed": false,
    "ExecuteTime": {
     "end_time": "2023-10-23T21:14:09.705452Z",
     "start_time": "2023-10-23T21:14:08.170687Z"
    }
   },
   "id": "2869b6d50c90f22f"
  },
  {
   "cell_type": "code",
   "execution_count": 10,
   "outputs": [],
   "source": [
    "probs_df.to_csv('submission.csv', index=False)"
   ],
   "metadata": {
    "collapsed": false,
    "ExecuteTime": {
     "end_time": "2023-10-23T21:14:09.720793Z",
     "start_time": "2023-10-23T21:14:09.706213Z"
    }
   },
   "id": "46e264a3765738d8"
  },
  {
   "cell_type": "markdown",
   "source": [
    "## Results (Eye Test)"
   ],
   "metadata": {
    "collapsed": false
   },
   "id": "2588d60ecca49811"
  },
  {
   "cell_type": "code",
   "execution_count": 11,
   "outputs": [
    {
     "data": {
      "text/plain": "Text(0.5, 0.98, 'Probability of High Dew Point: 0.142')"
     },
     "execution_count": 11,
     "metadata": {},
     "output_type": "execute_result"
    },
    {
     "data": {
      "text/plain": "<Figure size 640x480 with 3 Axes>",
      "image/png": "[encoded data removed]"
     },
     "metadata": {},
     "output_type": "display_data"
    }
   ],
   "source": [
    "# chooses a random pitch (with dew point probability) and reindexes \n",
    "sample = probs_df.sample()\n",
    "sample.index = [0]\n",
    "\n",
    "# gets the pitch statistics for that pitch\n",
    "sample_stats = df.loc[df['PID']==sample.loc[0, 'PID'], :]\n",
    "sample_stats.index = [0]\n",
    "\n",
    "fig, (ax1, ax2, ax3) = plt.subplots(1,3)\n",
    "\n",
    "# plots box plots for spin rate, vertical break, and horizontal break of all pitches by the same pitcher and pitch type as the sampled pitch\n",
    "ax1.boxplot(df.loc[(df['PITCHER_KEY']==sample_stats.loc[0, 'PITCHER_KEY']) & (df['PITCH_TYPE_TRACKED_KEY']==sample_stats.loc[0, 'PITCH_TYPE_TRACKED_KEY']), 'SPIN_RATE_ABSOLUTE'])\n",
    "ax2.boxplot(df.loc[(df['PITCHER_KEY']==sample_stats.loc[0, 'PITCHER_KEY']) & (df['PITCH_TYPE_TRACKED_KEY']==sample_stats.loc[0, 'PITCH_TYPE_TRACKED_KEY']), 'INDUCED_VERTICAL_BREAK'])\n",
    "ax3.boxplot(df.loc[(df['PITCHER_KEY']==sample_stats.loc[0, 'PITCHER_KEY']) & (df['PITCH_TYPE_TRACKED_KEY']==sample_stats.loc[0, 'PITCH_TYPE_TRACKED_KEY']), 'HORIZONTAL_BREAK'])\n",
    "\n",
    "# overlays those box plots with a \"scatter\" (single point) that shows where in the distribution the sampled pitch lies\n",
    "ax1.scatter(1, sample_stats.loc[0, 'SPIN_RATE_ABSOLUTE'], c='k', label='Q1')\n",
    "ax2.scatter(1, sample_stats.loc[0, 'INDUCED_VERTICAL_BREAK'], c='k', label='Q1')\n",
    "ax3.scatter(1, sample_stats.loc[0, 'HORIZONTAL_BREAK'], c='k', label='Q1')\n",
    "\n",
    "# titles the three plots\n",
    "ax1.set_title('Spin Rate')\n",
    "ax2.set_title('Induced Vertical Break')\n",
    "ax3.set_title('Horizontal Break')\n",
    "\n",
    "# adds the probability of that pitch being affected by a high dew point in the title\n",
    "fig.suptitle('Probability of High Dew Point: ' + str(round(sample.loc[0, 'DEWPOINT_AFFECTED'], 3)))"
   ],
   "metadata": {
    "collapsed": false,
    "ExecuteTime": {
     "end_time": "2023-10-23T21:14:09.899987Z",
     "start_time": "2023-10-23T21:14:09.725073Z"
    }
   },
   "id": "72d5eb9af4d52bb4"
  },
  {
   "cell_type": "code",
   "execution_count": 11,
   "outputs": [],
   "source": [],
   "metadata": {
    "collapsed": false,
    "ExecuteTime": {
     "end_time": "2023-10-23T21:14:09.900118Z",
     "start_time": "2023-10-23T21:14:09.890646Z"
    }
   },
   "id": "43885807407ec104"
  }
 ],
 "metadata": {
  "kernelspec": {
   "display_name": "Python 3",
   "language": "python",
   "name": "python3"
  },
  "language_info": {
   "codemirror_mode": {
    "name": "ipython",
    "version": 2
   },
   "file_extension": ".py",
   "mimetype": "text/x-python",
   "name": "python",
   "nbconvert_exporter": "python",
   "pygments_lexer": "ipython2",
   "version": "2.7.6"
  }
 },
 "nbformat": 4,
 "nbformat_minor": 5
}
